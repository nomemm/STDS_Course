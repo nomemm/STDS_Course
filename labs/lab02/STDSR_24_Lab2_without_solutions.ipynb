{
  "nbformat": 4,
  "nbformat_minor": 0,
  "metadata": {
    "colab": {
      "provenance": [],
      "toc_visible": true
    },
    "kernelspec": {
      "name": "python3",
      "display_name": "Python 3"
    },
    "language_info": {
      "name": "python"
    }
  },
  "cells": [
    {
      "cell_type": "markdown",
      "source": [
        "# Lab 2\n",
        "\n",
        "\n",
        "\n",
        "*   Data and Sampling Distributions.\n",
        "*   Standard error. Markov, Chebyshev inequalities.\n",
        "*   CLT"
      ],
      "metadata": {
        "id": "ai_BfS4rcczN"
      }
    },
    {
      "cell_type": "markdown",
      "source": [
        "1) Suppose you are cooking porridge. To find out whether you have salted porridge or not, you do not need to eat all the porridge. Can you try just one spoon?\n",
        "\n",
        "Porridge - population, one spoon of a porridge - sample"
      ],
      "metadata": {
        "id": "pMTSe9xvobYK"
      }
    },
    {
      "cell_type": "markdown",
      "source": [
        "2) If we tried to conduct a study in order to identify the level of knowledge in the field of computer vision on 50 students of the DSAI track, then on what population do we collect our samples?\n",
        "\n",
        "*   students of the DSAI track\n",
        "*   men and women from 18 to 25\n",
        "*   students of Innopolis Universtiy"
      ],
      "metadata": {
        "id": "8izqJQMsod35"
      }
    },
    {
      "cell_type": "markdown",
      "source": [
        "3) If the sample size is large enough (more than 100), then such a sample is representative.\n",
        "\n",
        "\n",
        "*   Yes\n",
        "*   No\n",
        "*   Depends on the sampling method"
      ],
      "metadata": {
        "id": "_P9mJP4nohTc"
      }
    },
    {
      "cell_type": "markdown",
      "source": [
        "Difference between descriptive and inferential statistics? (Sample statistics, population parametes)"
      ],
      "metadata": {
        "id": "EzmytoDlh21t"
      }
    },
    {
      "cell_type": "markdown",
      "source": [
        "## I know the population distribution"
      ],
      "metadata": {
        "id": "6oUlPmsineTg"
      }
    },
    {
      "cell_type": "code",
      "source": [
        "import scipy.stats as stats\n",
        "import math\n",
        "import numpy as np\n",
        "import matplotlib.pyplot as plt\n",
        "from scipy.stats import expon\n",
        "\n",
        "mu = 165           #sample mean\n",
        "sigma = 15         #sample standard deviation\n",
        "height = stats.norm(mu, sigma)\n",
        "xs = np.linspace(135, 195, 100)\n",
        "ys = height.pdf(xs)\n",
        "plt.plot(xs, ys, linewidth=4)\n",
        "plt.xlabel('height (cm)')\n",
        "plt.ylabel('PDF')"
      ],
      "metadata": {
        "id": "NwIQdT-AodZD",
        "colab": {
          "base_uri": "https://localhost:8080/",
          "height": 466
        },
        "outputId": "a00d8f75-aa0d-451a-dde3-f5856ec0d0c1"
      },
      "execution_count": null,
      "outputs": [
        {
          "output_type": "execute_result",
          "data": {
            "text/plain": [
              "Text(0, 0.5, 'PDF')"
            ]
          },
          "metadata": {},
          "execution_count": 1
        },
        {
          "output_type": "display_data",
          "data": {
            "text/plain": [
              "<Figure size 640x480 with 1 Axes>"
            ],
            "image/png": "[encoded data removed]"
          },
          "metadata": {}
        }
      ]
    },
    {
      "cell_type": "code",
      "source": [
        "type(height)"
      ],
      "metadata": {
        "colab": {
          "base_uri": "https://localhost:8080/"
        },
        "id": "C_bdOanPqkWn",
        "outputId": "4514bc27-63a5-4521-a832-b51358a85693"
      },
      "execution_count": null,
      "outputs": [
        {
          "output_type": "execute_result",
          "data": {
            "text/plain": [
              "scipy.stats._distn_infrastructure.rv_continuous_frozen"
            ]
          },
          "metadata": {},
          "execution_count": 2
        }
      ]
    },
    {
      "cell_type": "code",
      "source": [
        "def make_sample(n=100):\n",
        "    sample = height.rvs(n)\n",
        "    return sample"
      ],
      "metadata": {
        "id": "SbtpwlUFrmlJ"
      },
      "execution_count": null,
      "outputs": []
    },
    {
      "cell_type": "code",
      "source": [
        "number_of_elements = 100\n",
        "sample = make_sample(number_of_elements)\n",
        "sample"
      ],
      "metadata": {
        "colab": {
          "base_uri": "https://localhost:8080/"
        },
        "id": "FOv2gT-9nFvc",
        "outputId": "d9dd56ff-6a8f-431b-f35a-7180fede74b3"
      },
      "execution_count": null,
      "outputs": [
        {
          "output_type": "execute_result",
          "data": {
            "text/plain": [
              "array([151.01198844, 145.12568759, 166.77901602, 153.87553599,\n",
              "       146.83396127, 144.35850151, 159.20294822, 149.96791093,\n",
              "       148.80631909, 187.32713063, 167.78246775, 151.9777042 ,\n",
              "       126.53805971, 176.5124949 , 163.30250523, 163.28291539,\n",
              "       188.18404468, 148.05447436, 155.42309491, 173.4503221 ,\n",
              "       173.6797338 , 163.50083222, 181.32595006, 186.28251984,\n",
              "       147.38809706, 152.26431043, 157.66539133, 171.56649395,\n",
              "       150.26862127, 172.2214633 , 141.89834216, 159.78297961,\n",
              "       182.53009668, 158.20438726, 150.3544824 , 180.23626653,\n",
              "       181.77268157, 150.74265711, 153.64882085, 191.90065154,\n",
              "       150.33778798, 170.06520356, 169.49231499, 161.83982266,\n",
              "       137.08172228, 155.49149174, 153.05353152, 167.02715523,\n",
              "       145.36075407, 145.9820808 , 152.17887406, 181.4086854 ,\n",
              "       167.84896226, 184.38853357, 170.49151958, 162.23861083,\n",
              "       162.23550345, 179.3140298 , 165.89953163, 192.53193775,\n",
              "       166.13461655, 176.72177515, 156.18483728, 186.2524952 ,\n",
              "       189.28912469, 201.30957705, 165.14605117, 168.23908995,\n",
              "       221.06802235, 137.38995354, 172.77979409, 158.05197631,\n",
              "       170.00444118, 163.73618406, 159.81814961, 171.0045382 ,\n",
              "       190.54221065, 148.41444957, 158.01450267, 164.29410726,\n",
              "       166.0967988 , 156.79000532, 184.12663429, 170.96393615,\n",
              "       145.16972202, 162.20255604, 148.47933726, 152.55951853,\n",
              "       168.21422727, 207.11667738, 174.17997251, 148.57391834,\n",
              "       172.34688139, 185.92530872, 125.16916364, 164.29262699,\n",
              "       162.91497179, 171.37448221, 173.2182676 , 167.03743345])"
            ]
          },
          "metadata": {},
          "execution_count": 4
        }
      ]
    },
    {
      "cell_type": "code",
      "source": [
        "sample.mean(), sample.std() #compare it with mu and sigma"
      ],
      "metadata": {
        "colab": {
          "base_uri": "https://localhost:8080/"
        },
        "id": "y19iuRzxqgFT",
        "outputId": "5b84a1f9-59e5-4aae-ca82-be2e43fef31c"
      },
      "execution_count": null,
      "outputs": [
        {
          "output_type": "execute_result",
          "data": {
            "text/plain": [
              "(164.8044825129239, 16.361143587088428)"
            ]
          },
          "metadata": {},
          "execution_count": 5
        }
      ]
    },
    {
      "cell_type": "code",
      "source": [
        "def sample_stat(sample):\n",
        "    return sample.mean()\n",
        "\n",
        "def compute_sampling_distribution(n=100, iters=1000):\n",
        "    stats = [sample_stat(make_sample(n)) for i in range(iters)]\n",
        "    return np.array(stats)"
      ],
      "metadata": {
        "id": "wBqdFRRnrxCz"
      },
      "execution_count": null,
      "outputs": []
    },
    {
      "cell_type": "code",
      "source": [
        "number_of_iterations = 1000\n",
        "sample_means = compute_sampling_distribution(n=number_of_elements, iters=number_of_iterations)\n",
        "sample_means"
      ],
      "metadata": {
        "colab": {
          "base_uri": "https://localhost:8080/"
        },
        "id": "U5J0WRSSrBmP",
        "outputId": "6b9c5a5c-b0b3-4448-8284-cccdf1b3d02e"
      },
      "execution_count": null,
      "outputs": [
        {
          "output_type": "execute_result",
          "data": {
            "text/plain": [
              "array([163.74566065, 164.75923889, 163.43227091, 163.60633271,\n",
              "       164.54050719, 166.70929968, 165.75084091, 166.52059066,\n",
              "       165.03051906, 165.73305264, 165.05204869, 164.17857386,\n",
              "       164.71962564, 166.41546413, 163.86990777, 164.59348619,\n",
              "       168.37595433, 165.93763801, 165.19194532, 165.42634267,\n",
              "       164.41400429, 162.97010551, 162.66782662, 167.43274886,\n",
              "       163.71600636, 165.11770701, 166.77776383, 164.85736287,\n",
              "       165.0232461 , 162.7073642 , 163.66527491, 162.63925024,\n",
              "       162.64421081, 160.85313821, 164.92101129, 164.25110805,\n",
              "       164.12975438, 163.72351638, 164.70191644, 162.04702174,\n",
              "       163.8680451 , 162.53712752, 164.21554821, 165.40869243,\n",
              "       164.16731103, 165.75959476, 166.65804836, 165.58366763,\n",
              "       164.81720236, 165.3460473 , 161.76655038, 163.73714097,\n",
              "       166.49684036, 165.39430097, 162.77183779, 166.91057365,\n",
              "       164.3420227 , 167.05927067, 167.29867432, 164.27312227,\n",
              "       163.90897257, 165.14377474, 163.85440943, 164.38996593,\n",
              "       164.71689438, 164.86326633, 167.76775601, 165.37110991,\n",
              "       166.48358458, 164.29947331, 166.57494749, 166.21467113,\n",
              "       165.39326714, 164.93357378, 165.40536588, 165.83719391,\n",
              "       164.87971611, 166.32912583, 165.00699957, 164.94380657,\n",
              "       165.69159295, 164.18743587, 162.74485925, 163.61643213,\n",
              "       166.98395225, 164.96055667, 165.56057082, 163.83255872,\n",
              "       164.65918508, 167.12383006, 164.48860507, 164.45569488,\n",
              "       165.75669942, 165.86977023, 163.46207482, 165.32656371,\n",
              "       165.39063243, 168.71084888, 163.23144885, 164.05475813,\n",
              "       165.8248969 , 165.76157233, 162.47444001, 163.01603203,\n",
              "       163.45856976, 165.41968028, 165.55380665, 168.61622579,\n",
              "       167.86515632, 163.9993972 , 166.55738668, 166.03326412,\n",
              "       165.44517462, 165.74822301, 161.47068184, 167.44749286,\n",
              "       165.16472773, 163.366116  , 163.95421383, 162.79868369,\n",
              "       162.91193521, 164.41018195, 164.48308289, 163.12895073,\n",
              "       166.24176699, 164.83939825, 165.52719481, 169.61611694,\n",
              "       166.14177536, 162.98177727, 165.37230455, 168.71837085,\n",
              "       165.67444187, 165.99982939, 164.99943586, 165.64796926,\n",
              "       164.7470819 , 164.07699165, 166.74690859, 166.68513554,\n",
              "       164.26800387, 163.08698536, 164.41178016, 170.24393923,\n",
              "       164.2087774 , 165.73504065, 165.51090593, 164.52092371,\n",
              "       165.66708328, 163.02813715, 165.87647199, 165.98012196,\n",
              "       163.98257338, 162.73949827, 165.89140194, 166.83165589,\n",
              "       166.29362652, 167.11956303, 164.04515438, 165.95217703,\n",
              "       165.19616891, 168.55590607, 167.22247802, 164.45374495,\n",
              "       164.26056396, 164.99915378, 164.77751023, 165.18519499,\n",
              "       164.48259459, 165.45287076, 165.46646631, 166.33094315,\n",
              "       165.61025717, 162.69894656, 165.00431991, 165.65412339,\n",
              "       161.09483984, 164.65822245, 167.57490246, 166.85089861,\n",
              "       162.33556825, 162.88183343, 165.37970689, 166.79047813,\n",
              "       166.19013331, 164.77907233, 164.63611652, 168.75008485,\n",
              "       163.2432446 , 163.66099857, 165.22140779, 167.796581  ,\n",
              "       162.23142372, 165.51046536, 166.85900893, 164.8439993 ,\n",
              "       165.42637028, 165.15281645, 165.24946578, 164.18896655,\n",
              "       166.05727065, 163.67883013, 167.39553408, 165.07365338,\n",
              "       166.33657011, 165.30042317, 163.59032941, 165.22549583,\n",
              "       163.93781   , 165.76489718, 163.14046281, 164.31114517,\n",
              "       165.42862667, 163.77052209, 165.79452915, 165.58028236,\n",
              "       163.9652185 , 167.13040259, 167.35070421, 161.14277368,\n",
              "       167.6191705 , 167.96703728, 163.96947107, 164.86392309,\n",
              "       167.64705092, 167.73148045, 164.3660078 , 163.54260411,\n",
              "       166.44803124, 164.94257398, 164.4306802 , 162.87703374,\n",
              "       165.88235048, 164.77973754, 166.60971327, 164.39243056,\n",
              "       162.88260224, 165.78389381, 164.63733285, 162.94977203,\n",
              "       165.75095128, 164.88663736, 167.02518136, 166.75294917,\n",
              "       164.699022  , 163.90465698, 165.76373713, 167.60356208,\n",
              "       164.23123411, 162.96510306, 166.20704703, 162.8831765 ,\n",
              "       165.75821574, 167.18004571, 164.99316791, 165.65372794,\n",
              "       166.61055167, 166.41425176, 163.16723289, 169.93630804,\n",
              "       161.33431587, 164.54444276, 166.85545075, 165.95086205,\n",
              "       168.35944827, 165.070706  , 166.53077333, 164.83871393,\n",
              "       164.43491484, 163.43629709, 164.08761951, 163.91111122,\n",
              "       167.1953476 , 163.51247854, 167.09247888, 165.36121578,\n",
              "       166.07984147, 165.94757148, 163.25565348, 166.05123306,\n",
              "       163.57933085, 166.33758775, 166.87234659, 161.33929435,\n",
              "       160.19760443, 164.2802582 , 165.27939907, 166.10569197,\n",
              "       161.36838172, 165.40524088, 164.93964435, 166.40627941,\n",
              "       165.03275206, 163.45891638, 167.47261568, 163.5719618 ,\n",
              "       164.5231648 , 164.85226395, 167.81812974, 162.99052496,\n",
              "       164.74112681, 166.30558624, 163.43145187, 167.06254106,\n",
              "       165.71131978, 161.76458304, 165.08357722, 163.98358644,\n",
              "       164.01635521, 166.15060832, 167.15390053, 167.42863589,\n",
              "       165.45624565, 164.70257155, 162.90876106, 167.07425556,\n",
              "       166.21727386, 166.55652462, 163.54595345, 165.17476507,\n",
              "       162.5956537 , 162.08347521, 164.4552668 , 163.44052297,\n",
              "       164.79702423, 164.97871428, 167.98845365, 164.26559339,\n",
              "       164.63081267, 166.20091022, 166.87858432, 166.26349997,\n",
              "       166.05079078, 165.12388624, 163.83290652, 164.08512687,\n",
              "       165.37577776, 164.87568495, 166.14059282, 165.78537359,\n",
              "       166.89471654, 166.70976438, 163.94849949, 165.24565122,\n",
              "       165.23903558, 165.7067482 , 163.21310887, 164.90642995,\n",
              "       167.22209108, 163.77478065, 163.49063831, 162.7505541 ,\n",
              "       163.15195113, 164.48083045, 166.80212284, 164.46782008,\n",
              "       165.3453079 , 165.4346532 , 165.97585366, 167.03801477,\n",
              "       164.50594816, 167.62439378, 166.72565494, 167.02928158,\n",
              "       163.83921579, 166.62116136, 164.83022221, 164.56473879,\n",
              "       166.34296385, 168.01572419, 166.2202533 , 166.28131157,\n",
              "       167.51663984, 164.2325076 , 161.55541547, 162.6861935 ,\n",
              "       163.96851517, 164.06101975, 165.0320073 , 167.87936766,\n",
              "       163.86013996, 164.44436339, 166.43608148, 163.30008707,\n",
              "       165.46456905, 165.91333209, 165.37039914, 164.02121938,\n",
              "       165.33877101, 165.69398416, 165.02506694, 165.21882688,\n",
              "       167.4430774 , 163.4989077 , 164.87678656, 164.39309705,\n",
              "       167.22609001, 165.48795866, 164.23823547, 164.11756504,\n",
              "       163.75309082, 164.72646488, 165.09188517, 164.12567248,\n",
              "       166.26544746, 165.77379191, 163.61224781, 164.35893815,\n",
              "       165.32295311, 163.91907294, 164.94856555, 164.32564297,\n",
              "       165.33143985, 160.4264844 , 165.43118191, 161.33169468,\n",
              "       166.76826347, 167.07648254, 162.94301902, 163.53562065,\n",
              "       165.05409212, 164.43097592, 163.10576898, 162.28130587,\n",
              "       164.24259682, 163.65663717, 166.38555962, 163.47042916,\n",
              "       164.79725028, 161.04764759, 165.53691062, 164.3879967 ,\n",
              "       162.9136366 , 167.18128414, 164.00785226, 166.41413445,\n",
              "       164.05943429, 163.56778288, 165.5623631 , 163.77731325,\n",
              "       164.1646097 , 165.17056288, 163.5720695 , 162.67430592,\n",
              "       166.31859892, 164.42325776, 166.65059561, 166.25062601,\n",
              "       166.78582659, 163.95550029, 165.61463988, 164.6837419 ,\n",
              "       165.96823667, 163.83902911, 163.19065959, 164.80788538,\n",
              "       165.08484268, 165.32122844, 164.91460987, 165.20735027,\n",
              "       165.34786213, 165.29777263, 163.51671535, 163.49372428,\n",
              "       165.51098829, 164.06438892, 164.1074542 , 166.27540453,\n",
              "       165.39146804, 164.2757132 , 166.30912517, 166.70234251,\n",
              "       162.83328022, 163.35106814, 164.47614061, 165.13542892,\n",
              "       165.81032217, 163.80824453, 162.54164111, 165.26489235,\n",
              "       163.08895715, 166.04306953, 165.45606371, 165.11193557,\n",
              "       165.47021885, 166.75150158, 164.30036858, 164.66040141,\n",
              "       167.28446687, 164.50611537, 163.05308273, 163.60529015,\n",
              "       165.54575593, 167.05492665, 162.16464407, 164.74877273,\n",
              "       163.16832009, 163.39986392, 162.88020647, 168.14349558,\n",
              "       164.26219236, 166.01028858, 164.98710512, 166.88870012,\n",
              "       165.97677262, 164.8762961 , 166.22158233, 163.91811786,\n",
              "       165.76038027, 164.3443073 , 163.92477665, 164.04133564,\n",
              "       165.52013106, 164.90663218, 162.63977155, 168.86967317,\n",
              "       164.2544859 , 166.02152533, 163.19212336, 164.67034002,\n",
              "       162.29444114, 165.56176177, 165.23826598, 163.92141432,\n",
              "       164.10625026, 166.98573464, 165.294026  , 165.41474572,\n",
              "       162.63789397, 167.39114756, 163.16809845, 166.60647177,\n",
              "       163.09704039, 163.62811934, 165.23767597, 164.6703939 ,\n",
              "       164.88758255, 164.13485818, 166.55297875, 164.92497367,\n",
              "       166.16928212, 165.06482529, 165.60438298, 166.46437614,\n",
              "       163.24144226, 165.48883914, 163.7450618 , 162.75683011,\n",
              "       167.31968383, 164.08723382, 166.9538057 , 167.03735014,\n",
              "       164.84707883, 165.02665025, 164.73777674, 165.700573  ,\n",
              "       165.59002393, 165.43779312, 165.84937074, 164.38002447,\n",
              "       168.49960747, 167.12000796, 165.035164  , 166.26836554,\n",
              "       165.43547112, 162.9629308 , 164.80056213, 165.00621797,\n",
              "       164.10583503, 164.77201024, 163.33770897, 165.76432885,\n",
              "       167.52143407, 164.97198775, 164.53267723, 167.72630451,\n",
              "       163.78646607, 166.13133467, 162.86446989, 165.80058908,\n",
              "       166.59437364, 164.56842597, 165.97904951, 167.71286679,\n",
              "       164.48627361, 164.14364168, 165.6229742 , 165.68529648,\n",
              "       165.43804238, 163.89815814, 165.15457313, 165.65428594,\n",
              "       166.52760831, 164.2224842 , 165.94604416, 163.51883782,\n",
              "       162.08446257, 165.79822973, 164.09664727, 161.43383311,\n",
              "       166.82987388, 165.63081968, 161.90253769, 165.00419587,\n",
              "       164.05654441, 165.1868977 , 164.37297687, 164.91248758,\n",
              "       167.75370783, 163.68445004, 162.94024995, 162.99606264,\n",
              "       166.21089061, 164.61083535, 163.37155744, 166.74980133,\n",
              "       163.03501643, 165.53182339, 164.12057446, 164.09005807,\n",
              "       166.47919888, 166.2957094 , 164.73592027, 165.30135618,\n",
              "       165.46386798, 166.55416212, 167.53947548, 164.06148413,\n",
              "       167.30404555, 163.59940933, 164.25967209, 165.7951624 ,\n",
              "       162.58867762, 165.56236674, 164.89980606, 164.91889495,\n",
              "       163.83050467, 165.85109634, 165.23461511, 162.49096215,\n",
              "       166.03191171, 163.09698878, 165.65885721, 164.67037434,\n",
              "       163.95393837, 163.99469162, 165.7762753 , 162.60982409,\n",
              "       167.17246112, 165.26106718, 165.01404602, 163.15453449,\n",
              "       164.80907233, 164.4717862 , 164.25105906, 166.20345253,\n",
              "       164.83100717, 165.40828358, 164.81592178, 166.41893421,\n",
              "       168.08754161, 167.77525839, 165.31490465, 161.75260934,\n",
              "       167.20878201, 167.16045679, 166.28389763, 165.16929899,\n",
              "       164.76179066, 165.43097485, 164.37557834, 164.68710089,\n",
              "       165.02835639, 164.54183885, 164.96715814, 165.89898811,\n",
              "       165.76711221, 165.19052851, 166.8759236 , 163.79558358,\n",
              "       162.90667987, 164.02688555, 164.10452983, 166.77431198,\n",
              "       163.92994895, 166.30213534, 167.17919852, 164.21674339,\n",
              "       163.9509524 , 164.66395422, 165.4501829 , 163.92340807,\n",
              "       165.89594584, 164.07086314, 165.14100988, 166.76535731,\n",
              "       167.24193826, 165.45320715, 165.68158146, 166.35540411,\n",
              "       166.77080359, 165.01883987, 163.34499056, 163.86713522,\n",
              "       166.61082373, 166.55592076, 164.96387071, 165.12178737,\n",
              "       168.27206525, 161.7034914 , 165.5806585 , 164.32663643,\n",
              "       164.5151086 , 164.30452327, 165.4016127 , 161.6491673 ,\n",
              "       167.66089178, 164.31176846, 165.57383892, 164.32710226,\n",
              "       163.05866883, 164.19872247, 165.25157093, 165.57333988,\n",
              "       163.36983435, 162.90409986, 165.35052936, 166.60198487,\n",
              "       164.55142488, 166.27362964, 164.92238444, 166.65669595,\n",
              "       166.74331303, 163.72245719, 165.52699224, 166.15980447,\n",
              "       167.17627164, 165.60456396, 164.4194638 , 165.49060637,\n",
              "       163.28842028, 163.82663219, 166.61401441, 168.71417009,\n",
              "       165.58463251, 164.07297399, 164.79700187, 164.77062415,\n",
              "       165.35937963, 164.50499291, 170.02760106, 163.2831479 ,\n",
              "       164.35249874, 167.31707904, 165.64189906, 163.0947827 ,\n",
              "       166.84980009, 167.78674642, 167.48884345, 165.74827614,\n",
              "       164.6520287 , 165.48194637, 163.72887481, 162.86303823,\n",
              "       164.98347742, 165.38520029, 165.3042874 , 164.50120273,\n",
              "       165.72941465, 162.89214114, 162.77573786, 166.41656506,\n",
              "       164.44789625, 163.24833782, 167.59767062, 163.40235901,\n",
              "       165.26768465, 164.08603764, 162.51970628, 164.41885393,\n",
              "       163.76893835, 164.94961763, 165.55032645, 163.01558362,\n",
              "       165.83583033, 165.24342025, 164.22261126, 164.99076168,\n",
              "       168.57399752, 163.34423507, 166.04816395, 165.0390853 ,\n",
              "       165.73794758, 165.22882809, 165.23300027, 163.55475891,\n",
              "       165.04738335, 163.93541791, 164.61809532, 165.22350783,\n",
              "       164.97909683, 165.58922697, 167.6290096 , 165.93171344,\n",
              "       165.64345524, 165.20229359, 165.98276132, 165.4236879 ,\n",
              "       163.89679454, 165.23474903, 166.39370064, 163.71403209,\n",
              "       166.27514698, 166.3005721 , 165.09719702, 164.17656732,\n",
              "       164.74797148, 165.30370376, 166.28312323, 164.36752014,\n",
              "       164.49173846, 165.33541929, 165.92093863, 163.23243785,\n",
              "       161.52995925, 165.60685934, 165.45284578, 163.91205303,\n",
              "       163.58628405, 163.7138756 , 165.38233764, 164.18971045,\n",
              "       163.64049067, 165.49260962, 168.25952942, 166.31561837,\n",
              "       163.56755446, 164.32567229, 164.44767163, 165.11429017,\n",
              "       163.44205144, 163.52483443, 163.18661505, 162.17082937,\n",
              "       167.33214939, 167.45323977, 164.84948501, 164.35197631,\n",
              "       163.14242531, 164.77844793, 165.57418827, 165.34556401,\n",
              "       165.19990451, 165.12018377, 165.2676796 , 166.97891737,\n",
              "       165.518213  , 165.93312005, 167.09921846, 166.33289684,\n",
              "       165.40940152, 163.82587974, 165.55640732, 165.73386928,\n",
              "       162.33534592, 163.49042956, 166.26944629, 164.74227897,\n",
              "       165.47166394, 165.50673732, 163.8980886 , 167.99708655,\n",
              "       164.81313857, 165.36408352, 164.12211198, 162.47270033,\n",
              "       166.89151787, 164.78189214, 165.67739115, 164.16501572,\n",
              "       167.15064532, 162.35892122, 166.81186916, 161.87134395,\n",
              "       166.05941441, 161.9969191 , 163.88946463, 163.90879305,\n",
              "       164.218223  , 163.02831545, 166.08192626, 161.90027126,\n",
              "       166.10316499, 164.9880258 , 165.38558817, 164.41129048,\n",
              "       164.52927638, 163.53875657, 163.95692814, 163.78242079,\n",
              "       165.56156529, 161.23347609, 164.16153055, 166.32793854,\n",
              "       167.174011  , 165.72108876, 165.57521262, 164.38303105,\n",
              "       167.4436564 , 165.8303252 , 165.3456381 , 163.18150449,\n",
              "       163.19215138, 165.97822751, 162.94875474, 164.18148622,\n",
              "       165.55749192, 166.31370325, 164.81649639, 165.9689241 ,\n",
              "       166.94998612, 165.57347119, 165.64675388, 161.08094099,\n",
              "       162.52877686, 164.17719372, 164.98116514, 164.6898608 ,\n",
              "       162.86815414, 163.36134036, 164.89132879, 164.92334595,\n",
              "       163.74260494, 165.30786377, 165.33737833, 165.46418291,\n",
              "       164.89336233, 165.15334169, 164.94150771, 163.80409067,\n",
              "       164.88327519, 163.96452471, 163.46004546, 164.01894751,\n",
              "       167.95366197, 164.79532916, 166.25439562, 167.25266149,\n",
              "       166.07098089, 166.63408865, 164.87480217, 165.81323356,\n",
              "       165.08297614, 161.78486406, 166.74846583, 166.5959505 ,\n",
              "       166.09092809, 162.08028818, 163.54727089, 164.88125185,\n",
              "       167.34781372, 165.82134869, 164.80264651, 163.32347667,\n",
              "       163.6712418 , 162.81941451, 164.4216976 , 163.8166224 ,\n",
              "       167.03816392, 165.22865276, 165.05539627, 166.89713152,\n",
              "       164.75817281, 164.65187238, 165.26579637, 165.30082017,\n",
              "       161.79547647, 163.70479455, 165.94189123, 166.67846184,\n",
              "       163.46235434, 165.68436257, 165.14009456, 161.88846771,\n",
              "       164.03602681, 165.68479391, 167.5486986 , 165.49801539,\n",
              "       168.39144925, 164.0133433 , 165.6553136 , 165.77125155,\n",
              "       164.25719377, 165.29423455, 165.78925539, 164.8559363 ,\n",
              "       165.58890824, 166.24799578, 163.96804631, 164.76674951])"
            ]
          },
          "metadata": {},
          "execution_count": 7
        }
      ]
    },
    {
      "cell_type": "code",
      "source": [
        "plt.hist(sample_means)\n",
        "plt.xlabel('sample mean')\n",
        "plt.ylabel('count')"
      ],
      "metadata": {
        "colab": {
          "base_uri": "https://localhost:8080/",
          "height": 466
        },
        "id": "1unMD5R3sIVV",
        "outputId": "69cf8a5b-a900-474e-ab52-1b44c2b6c720"
      },
      "execution_count": null,
      "outputs": [
        {
          "output_type": "execute_result",
          "data": {
            "text/plain": [
              "Text(0, 0.5, 'count')"
            ]
          },
          "metadata": {},
          "execution_count": 8
        },
        {
          "output_type": "display_data",
          "data": {
            "text/plain": [
              "<Figure size 640x480 with 1 Axes>"
            ],
            "image/png": "[encoded data removed]"
          },
          "metadata": {}
        }
      ]
    },
    {
      "cell_type": "code",
      "source": [
        "sample_means.mean()"
      ],
      "metadata": {
        "colab": {
          "base_uri": "https://localhost:8080/"
        },
        "id": "6_oPhPxwsSLf",
        "outputId": "83618ac1-a10a-4dd6-a839-aa5cfa6ca9c9"
      },
      "execution_count": null,
      "outputs": [
        {
          "output_type": "execute_result",
          "data": {
            "text/plain": [
              "165.006668580495"
            ]
          },
          "metadata": {},
          "execution_count": 9
        }
      ]
    },
    {
      "cell_type": "markdown",
      "source": [
        "This value is close to our population mean, but... Let us look to the precision in the experiments!"
      ],
      "metadata": {
        "id": "CBZ-KARutO4i"
      }
    },
    {
      "cell_type": "code",
      "source": [
        "std_err = sample_means.std()\n",
        "std_err"
      ],
      "metadata": {
        "colab": {
          "base_uri": "https://localhost:8080/"
        },
        "id": "Vc3e0NwCsUpT",
        "outputId": "a189d66c-baae-49d3-c591-b14b030f7b48"
      },
      "execution_count": null,
      "outputs": [
        {
          "output_type": "execute_result",
          "data": {
            "text/plain": [
              "1.505409297708816"
            ]
          },
          "metadata": {},
          "execution_count": 10
        }
      ]
    },
    {
      "cell_type": "markdown",
      "source": [
        "If we know the population distribution, but it is not normal..."
      ],
      "metadata": {
        "id": "wP7pD__aaDMl"
      }
    },
    {
      "cell_type": "code",
      "source": [
        "unknown_stats = [sample_stat(expon.rvs(size=1000)) for i in range(number_of_iterations)] #sampling distribution from exponential samples\n",
        "plt.hist(unknown_stats)\n",
        "plt.xlabel('sample mean')\n",
        "plt.ylabel('count')"
      ],
      "metadata": {
        "colab": {
          "base_uri": "https://localhost:8080/",
          "height": 470
        },
        "id": "Rn9FNeA7aJSR",
        "outputId": "3d8fe7ba-5781-44c6-b687-40c349e88ae7"
      },
      "execution_count": null,
      "outputs": [
        {
          "output_type": "execute_result",
          "data": {
            "text/plain": [
              "Text(0, 0.5, 'count')"
            ]
          },
          "metadata": {},
          "execution_count": 11
        },
        {
          "output_type": "display_data",
          "data": {
            "text/plain": [
              "<Figure size 640x480 with 1 Axes>"
            ],
            "image/png": "[encoded data removed]"
          },
          "metadata": {}
        }
      ]
    },
    {
      "cell_type": "markdown",
      "source": [
        "We can use a sample to build a population model."
      ],
      "metadata": {
        "id": "a8P5yndiwQ2G"
      }
    },
    {
      "cell_type": "code",
      "source": [
        "class Resampler(object):\n",
        "\n",
        "    def __init__(self, sample): #stores the actual sample\n",
        "        self.sample = sample\n",
        "        self.n = len(sample)\n",
        "\n",
        "    def resample(self): #generates a new sample by choosing from the original sample with replacement\n",
        "        new_sample = np.random.choice(self.sample, self.n, replace=True)\n",
        "        return new_sample\n",
        "\n",
        "    def sample_stat(self, sample): #computes the sample statistics\n",
        "        return sample.mean()\n",
        "\n",
        "    def compute_sampling_distribution(self, iters=1000): #collects the statistics from the experiments\n",
        "        # TODO: compute statistic for each resample\n",
        "        stats = None\n",
        "        return np.array(stats)\n",
        "\n",
        "    def plot_sampling_distribution(self): #plots the sampling distribution\n",
        "        sample_stats = self.compute_sampling_distribution()\n",
        "        se = sample_stats.std()\n",
        "        ci = np.percentile(sample_stats, [2.5, 97.5])\n",
        "\n",
        "        plt.hist(sample_stats)\n",
        "        plt.xlabel('sample statistic')\n",
        "        plt.axvline(x=ci[0], color='red', label=\"2.5%\")\n",
        "        plt.text(ci[0] + 0.1, 0.1 * sample_stats.shape[0], \"2.5%\")\n",
        "        plt.axvline(x=ci[1], color='red', label=\"97.5%\")\n",
        "        plt.text(ci[1] + 0.1, 0.1 * sample_stats.shape[0], \"97.5%\")\n",
        "        plt.xlim(sample_stats.min() - sample_stats.std(), sample_stats.max() + sample_stats.std())\n",
        "        plt.show()\n"
      ],
      "metadata": {
        "id": "aEFf0JHguRhs"
      },
      "execution_count": null,
      "outputs": []
    },
    {
      "cell_type": "markdown",
      "source": [
        "## I don't know two distributions ☹"
      ],
      "metadata": {
        "id": "NkawYHYd0KDT"
      }
    },
    {
      "cell_type": "code",
      "source": [
        "female_mu = 160           #sample mean for females\n",
        "female_sigma = 12         #sample standard deviation for females\n",
        "female_height = stats.norm(female_mu, female_sigma)\n",
        "female_xs = np.linspace(135, 195, 100)\n",
        "female_ys = height.pdf(xs)\n",
        "plt.plot(female_xs, female_ys, linewidth=4)\n",
        "plt.xlabel('height of females (cm)')\n",
        "plt.ylabel('PDF')"
      ],
      "metadata": {
        "colab": {
          "base_uri": "https://localhost:8080/",
          "height": 466
        },
        "id": "qaB4hmlZzcOx",
        "outputId": "ae9f39c7-09bd-4ffa-eb03-22fd43ca90c8"
      },
      "execution_count": null,
      "outputs": [
        {
          "output_type": "execute_result",
          "data": {
            "text/plain": [
              "Text(0, 0.5, 'PDF')"
            ]
          },
          "metadata": {},
          "execution_count": 13
        },
        {
          "output_type": "display_data",
          "data": {
            "text/plain": [
              "<Figure size 640x480 with 1 Axes>"
            ],
            "image/png": "[encoded data removed]"
          },
          "metadata": {}
        }
      ]
    },
    {
      "cell_type": "code",
      "source": [
        "male_mu = 174           #sample mean for male\n",
        "male_sigma = 10         #sample standard deviation for male\n",
        "male_height = stats.norm(male_mu, male_sigma)\n",
        "male_xs = np.linspace(164, 195, 100)\n",
        "male_ys = height.pdf(xs)\n",
        "plt.plot(male_xs, male_ys, linewidth=4)\n",
        "plt.xlabel('height of male (cm)')\n",
        "plt.ylabel('PDF')"
      ],
      "metadata": {
        "colab": {
          "base_uri": "https://localhost:8080/",
          "height": 466
        },
        "id": "-9CqNqK20qPe",
        "outputId": "3fa977a3-c314-4a6f-ca7c-a384f637aa3b"
      },
      "execution_count": null,
      "outputs": [
        {
          "output_type": "execute_result",
          "data": {
            "text/plain": [
              "Text(0, 0.5, 'PDF')"
            ]
          },
          "metadata": {},
          "execution_count": 14
        },
        {
          "output_type": "display_data",
          "data": {
            "text/plain": [
              "<Figure size 640x480 with 1 Axes>"
            ],
            "image/png": "[encoded data removed]"
          },
          "metadata": {}
        }
      ]
    },
    {
      "cell_type": "code",
      "source": [
        "male_height.mean() - female_height.mean()"
      ],
      "metadata": {
        "colab": {
          "base_uri": "https://localhost:8080/"
        },
        "id": "X_P9TBIE19Ir",
        "outputId": "6fe2260f-b5b8-49e9-8118-64a587b44c26"
      },
      "execution_count": null,
      "outputs": [
        {
          "output_type": "execute_result",
          "data": {
            "text/plain": [
              "14.0"
            ]
          },
          "metadata": {},
          "execution_count": 15
        }
      ]
    },
    {
      "cell_type": "code",
      "source": [
        "number_of_males_and_females = 100\n",
        "female_sample = female_height.rvs(number_of_males_and_females)\n",
        "male_sample = male_height.rvs(number_of_males_and_females)"
      ],
      "metadata": {
        "id": "-Hmr6jA701e_"
      },
      "execution_count": null,
      "outputs": []
    },
    {
      "cell_type": "code",
      "source": [
        "male_sample.mean() - female_sample.mean()"
      ],
      "metadata": {
        "colab": {
          "base_uri": "https://localhost:8080/"
        },
        "id": "Ogj66u7o1fYk",
        "outputId": "326febd3-c22d-46b5-c2a3-01d347a6a2fd"
      },
      "execution_count": null,
      "outputs": [
        {
          "output_type": "execute_result",
          "data": {
            "text/plain": [
              "13.611718454416689"
            ]
          },
          "metadata": {},
          "execution_count": 17
        }
      ]
    },
    {
      "cell_type": "markdown",
      "source": [
        "We will use [Cohen's d](https://en.wikipedia.org/wiki/Effect_size#Cohen's_d) to estimate the difference in heights:\n",
        "\n",
        "$d = \\frac{\\bar x_1 - \\bar x_2}{s},$\n",
        "\n",
        "where $\\bar x_1$ and $\\bar x_2$ are sample means of males and females,\n",
        "\n",
        "$s = \\sqrt{\\frac{(n_1-1)s_1^2 + (n_2-1)s_2^2}{n_1 + n_2 - 2}}$ is a pooled standard deviation,\n",
        "\n",
        "$s_1$ and $s_2$ are sample standard deviations of males and females,\n",
        "\n",
        "$n_1$ and $n_2$ are the number of males and females in the samples."
      ],
      "metadata": {
        "id": "KjhzzVsv2HSq"
      }
    },
    {
      "cell_type": "code",
      "source": [
        "def CohenEffectSize(group1, group2):\n",
        "    diff = group1.mean() - group2.mean()\n",
        "    n1, n2 = len(group1), len(group2)\n",
        "\n",
        "    # By default ddof = 0 and we get a biased estimate of the variance\n",
        "    var1 = group1.var(ddof=1)\n",
        "    var2 = group2.var(ddof=1)\n",
        "\n",
        "    # Note: in some papers/books \"-2\" in denominator might be ommited\n",
        "    pooled_var = ((n1 - 1) * var1 + (n2 - 1) * var2) / (n1 + n2 - 2)\n",
        "    d = diff / np.sqrt(pooled_var)\n",
        "    return d, np.sqrt(pooled_var)"
      ],
      "metadata": {
        "id": "G1ZsPTFT1g86"
      },
      "execution_count": null,
      "outputs": []
    },
    {
      "cell_type": "code",
      "source": [
        "d, stddev = CohenEffectSize(male_sample, female_sample)\n",
        "(d, stddev)"
      ],
      "metadata": {
        "colab": {
          "base_uri": "https://localhost:8080/"
        },
        "id": "uJmtCFfM3biR",
        "outputId": "11e5bb83-8277-4b98-9f66-fc6b39a6496f"
      },
      "execution_count": null,
      "outputs": [
        {
          "output_type": "execute_result",
          "data": {
            "text/plain": [
              "(1.2965965170165563, 10.498037188729299)"
            ]
          },
          "metadata": {},
          "execution_count": 19
        }
      ]
    },
    {
      "cell_type": "markdown",
      "source": [
        "The difference in heights between males and females is approximately equal to 1 pooled standard deviation. According to the table below we observe a large or very large difference:\n",
        "\n",
        "| Effect size |  d   |\n",
        "|-------------|------|\n",
        "| Very small  | 0.01 |\n",
        "| Small       | 0.2  |\n",
        "| Medium      | 0.5  |\n",
        "| Large       | 0.8  |\n",
        "| Very large  | 1.2  |\n",
        "| Huge        | 2    |"
      ],
      "metadata": {
        "id": "5iL-xXeb3ze5"
      }
    },
    {
      "cell_type": "code",
      "source": [
        "d * stddev"
      ],
      "metadata": {
        "colab": {
          "base_uri": "https://localhost:8080/"
        },
        "id": "FGWnI-SG3ftD",
        "outputId": "e2c9ecbc-6d80-4643-d2a6-167bcdd57b67"
      },
      "execution_count": null,
      "outputs": [
        {
          "output_type": "execute_result",
          "data": {
            "text/plain": [
              "13.611718454416689"
            ]
          },
          "metadata": {},
          "execution_count": 20
        }
      ]
    },
    {
      "cell_type": "code",
      "source": [
        "class CohenResampler(Resampler):\n",
        "    def __init__(self, group1, group2):\n",
        "        self.group1 = group1\n",
        "        self.group2 = group2\n",
        "\n",
        "    def resample(self):\n",
        "        n, m = len(self.group1), len(self.group2)\n",
        "        group1 = np.random.choice(self.group1, n, replace=True)\n",
        "        group2 = np.random.choice(self.group2, m, replace=True)\n",
        "        return group1, group2\n",
        "\n",
        "    def sample_stat(self, groups):\n",
        "        group1, group2 = groups\n",
        "        return CohenEffectSize(group1, group2)[1]"
      ],
      "metadata": {
        "id": "_GqV19uZ4BaW"
      },
      "execution_count": null,
      "outputs": []
    },
    {
      "cell_type": "code",
      "source": [
        "resampler = CohenResampler(male_sample, female_sample)\n",
        "resampler.plot_sampling_distribution()"
      ],
      "metadata": {
        "id": "qrPGWAwi4Pus"
      },
      "execution_count": null,
      "outputs": []
    },
    {
      "cell_type": "markdown",
      "source": [
        "## Markov inequality"
      ],
      "metadata": {
        "id": "M_4pfZKgYGHf"
      }
    },
    {
      "cell_type": "markdown",
      "source": [
        "$$P(X \\geq a) \\leq \\frac{E(X)}{a}$$"
      ],
      "metadata": {
        "id": "UQL30MwPdhC0"
      }
    },
    {
      "cell_type": "code",
      "source": [
        "sample #sample of height that we've already generated"
      ],
      "metadata": {
        "id": "b2CFZW3HYaOr"
      },
      "execution_count": null,
      "outputs": []
    },
    {
      "cell_type": "markdown",
      "source": [
        "Markov inequality gives us the upper bound for the probabilities:"
      ],
      "metadata": {
        "id": "5-DYuytId7_V"
      }
    },
    {
      "cell_type": "code",
      "source": [
        "x = range(120,300)\n",
        "y = []\n",
        "for a in x:\n",
        "  y.append(sample.mean()/a)\n",
        "plt.plot(x, y, label=r\"$\\frac{EX}{a}$\")\n",
        "\n",
        "# TODO: plot an exact P(X >= a)\n",
        "...\n",
        "plt.xlabel('given value (cm)')\n",
        "plt.ylabel('probability') #probability of the height being greated than the given value\n",
        "plt.legend()\n",
        "plt.show()"
      ],
      "metadata": {
        "id": "eyF4Kn9LZ2bl"
      },
      "execution_count": null,
      "outputs": []
    },
    {
      "cell_type": "markdown",
      "source": [
        "## Chebyshev inequality"
      ],
      "metadata": {
        "id": "zTLIcgGtdfoZ"
      }
    },
    {
      "cell_type": "markdown",
      "source": [
        "$$P(|X-\\mu|\\geq k\\sigma)≤\\frac{1}{k^2}$$"
      ],
      "metadata": {
        "id": "ngu0mHiUmDpM"
      }
    },
    {
      "cell_type": "code",
      "source": [
        "k = range(1,10)\n",
        "for i in k:\n",
        "  print('P(|X-𝜇| >= {}𝜎) <= {}'.format(i, 1/(i*i)))"
      ],
      "metadata": {
        "id": "K6wApKZvlVCv"
      },
      "execution_count": null,
      "outputs": []
    },
    {
      "cell_type": "markdown",
      "source": [
        "$$P(|X-\\mu|\\leq k\\sigma)\\geq 1 - \\frac{1}{k^2}$$"
      ],
      "metadata": {
        "id": "OtJ_jQv-ocA8"
      }
    },
    {
      "cell_type": "code",
      "source": [
        "k = range(1,10)\n",
        "for i in k:\n",
        "  print('P(|X-𝜇| <= {}𝜎) >= {}'.format(i, 1-(1/(i*i))))"
      ],
      "metadata": {
        "id": "YK8Lgm2xnkOW"
      },
      "execution_count": null,
      "outputs": []
    },
    {
      "cell_type": "markdown",
      "source": [
        "Example, this means that at least 75\\% of your data lies between $\\mu-2\\sigma$ and $\\mu+2\\sigma$. The inequality works for any distribution!!!"
      ],
      "metadata": {
        "id": "wIr-IK6bRsiw"
      }
    },
    {
      "cell_type": "markdown",
      "source": [
        "## Law of large numbers"
      ],
      "metadata": {
        "id": "ZtNLHJZno3kX"
      }
    },
    {
      "cell_type": "markdown",
      "source": [
        "$$\\lim_{n \\rightarrow ∞} P(|\\bar{X} - \\mu | \\geq ϵ)=0, $$\n",
        "\n",
        "$$\\lim_{n \\rightarrow ∞} P(|\\bar{X} - \\mu | < ϵ)=1 $$"
      ],
      "metadata": {
        "id": "z2OPsmq7asQL"
      }
    },
    {
      "cell_type": "code",
      "source": [
        "height_samples = [make_sample(i).mean() for i in range(1,1000)]\n",
        "plt.plot(range(1,1000), height_samples)\n",
        "plt.xlabel('number of experiments')\n",
        "plt.ylabel('probability')\n",
        "plt.ylim([150, 180])\n",
        "plt.xlim([1, 1000])\n",
        "plt.show()"
      ],
      "metadata": {
        "id": "rbXcgj33o2sU"
      },
      "execution_count": null,
      "outputs": []
    },
    {
      "cell_type": "markdown",
      "source": [
        "## The resources\n",
        "\n",
        "[Inferetntial statistics](https://github.com/AllenDowney/CompStats/blob/master/sampling_soln.ipynb)\n",
        "\n",
        "[Pandas recap](https://github.com/tdpetrou/Learn-Pandas/blob/master/Selecting%20Subsets/01%20Selecting%20Subsets%20with%20%5B%20%5D%2C%20.loc%20and%20.iloc.ipynb)\n",
        "\n",
        "[How NOT to do the indexing](https://github.com/tdpetrou/Learn-Pandas/blob/64b4795b393960df110c47f697bb7f77777f3e7c/Selecting%20Subsets/04%20How%20NOT%20to%20select%20subsets%20of%20data.ipynb)"
      ],
      "metadata": {
        "id": "guVGtiE88cCI"
      }
    }
  ]
}